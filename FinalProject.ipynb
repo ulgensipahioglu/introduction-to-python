{
 "cells": [
  {
   "cell_type": "code",
   "execution_count": 58,
   "metadata": {},
   "outputs": [],
   "source": [
    "class Yemek():\n",
    "    def __init__(self, isim):\n",
    "                self.isim = isim\n",
    "            \n",
    "    def On_Hazirlik(self):\n",
    "        print ('Malzemeleri guzelce yikayin. \\nOrta boy bir tencere kullanabilirsiniz. \\nSoganlari kup kup dograyin.')\n",
    "             \n",
    "    def Pisirme_Suresi(self):\n",
    "        print ('ortalama 20 dk.')\n",
    "        \n",
    "class Taze_Fasulye(Yemek):\n",
    "    def __init__(self, isim):\n",
    "        super().__init__(isim)\n",
    "    \n",
    "    def Malzemeler(self):\n",
    "        print (f\"{self.isim}: 1 yemek kasigi yag, 1 adet Sogan, 1 yemek kasigi Salca, Tuz, Taze Fasulye , Su\")\n",
    "        \n",
    "    def Yapilisi(self):\n",
    "         print (f\"{self.isim}: Yagi tencereye koyun. \\nInce ince dogradiniginiz soganlari ekleyin. \\nSoganlar pambelesince salcayi ekleyin ve kokosu cikana kadar karustirarak pisirin, \\nFasulyeleri tencereye alin. \\nSuyu ekleyin. \\nKaynadiktan sonra altini kapatin. \\nAFIYET OLSUN!\" )\n",
    "            \n",
    "            \n",
    "            \n",
    "class Patates_Yemegi(Yemek):\n",
    "    def __init__(self, isim):\n",
    "        super().__init__(isim)\n",
    "    \n",
    "    def Malzemeler(self):\n",
    "        print (f\"{self.isim}: 1 yemek kasigi yag, 1 adet Sogan, 1 yemek kasigi Salca, Tuz, Patates , Su\")\n",
    "        \n",
    "    def Yapilisi(self):\n",
    "         print (f\"{self.isim}: Yagi tencereye koyun. \\nInce ince dogradiniginiz soganlari ekleyin. \\nSoganlar pambelesince salcayi ekleyin ve kokosu cikana kadar karustirarak pisirin, \\nKup kup dogradiginiz patatesleri tencereye alin. \\nSuyu ekleyin. \\nKaynadiktan sonra altini kapatin. \\nAFIYET OLSUN!\" )\n",
    "            \n",
    "            \n",
    "class Bezelye_Yemegi(Yemek):\n",
    "    def __init__(self, isim):\n",
    "        super().__init__(isim)\n",
    "    \n",
    "    def Malzemeler(self):\n",
    "        print (f\"{self.isim}: 1 yemek kasigi yag, 1 adet Sogan, 1 yemek kasigi Salca, Tuz, Bezelye , Su\")\n",
    "        \n",
    "    def Yapilisi(self):\n",
    "         print (f\"{self.isim}: Yagi tencereye koyun. \\nInce ince dogradiniginiz soganlari ekleyin. \\nSoganlar pambelesince salcayi ekleyin ve kokosu cikana kadar karustirarak pisirin, \\nBezelyeleri tencereye alin. \\nSuyu ekleyin. \\nKaynadiktan sonra altini kapatin. \\nAFIYET OLSUN!\" )"
   ]
  },
  {
   "cell_type": "code",
   "execution_count": 59,
   "metadata": {},
   "outputs": [
    {
     "name": "stdout",
     "output_type": "stream",
     "text": [
      "Malzemeleri guzelce yikayin. \n",
      "Orta boy bir tencere kullanabilirsiniz. \n",
      "Soganlari kup kup dograyin.\n"
     ]
    }
   ],
   "source": [
    "yemek1 = Yemek(Bezelye_Yemegi)\n",
    "yemek1.On_Hazirlik()"
   ]
  },
  {
   "cell_type": "code",
   "execution_count": null,
   "metadata": {},
   "outputs": [],
   "source": []
  }
 ],
 "metadata": {
  "kernelspec": {
   "display_name": "Python 3",
   "language": "python",
   "name": "python3"
  },
  "language_info": {
   "codemirror_mode": {
    "name": "ipython",
    "version": 3
   },
   "file_extension": ".py",
   "mimetype": "text/x-python",
   "name": "python",
   "nbconvert_exporter": "python",
   "pygments_lexer": "ipython3",
   "version": "3.8.5"
  }
 },
 "nbformat": 4,
 "nbformat_minor": 4
}
