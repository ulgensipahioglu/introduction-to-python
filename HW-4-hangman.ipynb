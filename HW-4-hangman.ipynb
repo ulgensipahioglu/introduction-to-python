{
 "cells": [
  {
   "cell_type": "code",
   "execution_count": null,
   "metadata": {},
   "outputs": [],
   "source": [
    "gizli_kelime = \"globaliahub\"\n",
    "tahmin_string = \"\"\n",
    "\n",
    "can = 7\n",
    "\n",
    "while can > 0:\n",
    "    harf_left = 0\n",
    "\n",
    "    for karakter in gizli_kelime:\n",
    "        if karakter in tahmin_string:\n",
    "            print(karakter)\n",
    "        else:\n",
    "            print(\"_\")\n",
    "            harf_left += 1\n",
    "\n",
    "    if harf_left == 0:\n",
    "        print(\"kazandınız\")\n",
    "        break\n",
    "\n",
    "    ziyaretci = input(\"lütfen harf girin :\")\n",
    "    tahmin_string += ziyaretci\n",
    "\n",
    "    if ziyaretci not in gizli_kelime:\n",
    "        can -= 1\n",
    "        print(\"hatalı !\")\n",
    "        print(f\"kalan hakkınız {can} \")\n",
    "\n",
    "        if can == 0:\n",
    "            print(\"canınız kalmadı\")"
   ]
  }
 ],
 "metadata": {
  "kernelspec": {
   "display_name": "Python 3",
   "language": "python",
   "name": "python3"
  },
  "language_info": {
   "codemirror_mode": {
    "name": "ipython",
    "version": 3
   },
   "file_extension": ".py",
   "mimetype": "text/x-python",
   "name": "python",
   "nbconvert_exporter": "python",
   "pygments_lexer": "ipython3",
   "version": "3.8.5"
  }
 },
 "nbformat": 4,
 "nbformat_minor": 4
}
